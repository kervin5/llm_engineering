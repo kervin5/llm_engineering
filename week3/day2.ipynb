{
  "cells": [
    {
      "cell_type": "markdown",
      "metadata": {
        "id": "WRuFso38jxFd"
      },
      "source": [
        "# Welcome to Pipelines!\n",
        "\n",
        "The HuggingFace transformers library provides APIs at two different levels.\n",
        "\n",
        "The High Level API for using open-source models for typical inference tasks is called \"pipelines\". It's incredibly easy to use.\n",
        "\n",
        "You create a pipeline using something like:\n",
        "\n",
        "`my_pipeline = pipeline(\"the_task_I_want_to_do\")`\n",
        "\n",
        "Followed by\n",
        "\n",
        "`result = my_pipeline(my_input)`\n",
        "\n",
        "And that's it!\n",
        "\n",
        "See end of this colab for a list of all pipelines."
      ]
    },
    {
      "cell_type": "markdown",
      "metadata": {
        "id": "4tORRYLozax7"
      },
      "source": [
        "## Before we start: 2 important pro-tips for using Colab:\n",
        "\n",
        "**Pro-tip 1:**\n",
        "\n",
        "The top of every colab has some pip installs. You may receive errors from pip when you run this, such as:\n",
        "\n",
        "> gcsfs 2025.3.2 requires fsspec==2025.3.2, but you have fsspec 2025.3.0 which is incompatible.\n",
        "\n",
        "These pip compatibility errors can be safely ignored; and while it's tempting to try to fix them by changing version numbers, that will actually introduce real problems!\n",
        "\n",
        "**Pro-tip 2:**\n",
        "\n",
        "In the middle of running a Colab, you might get an error like this:\n",
        "\n",
        "> Runtime error: CUDA is required but not available for bitsandbytes. Please consider installing [...]\n",
        "\n",
        "This is a super-misleading error message! Please don't try changing versions of packages...\n",
        "\n",
        "This actually happens because Google has switched out your Colab runtime, perhaps because Google Colab was too busy. The solution is:\n",
        "\n",
        "1. Kernel menu >> Disconnect and delete runtime\n",
        "2. Reload the colab from fresh and Edit menu >> Clear All Outputs\n",
        "3. Connect to a new T4 using the button at the top right\n",
        "4. Select \"View resources\" from the menu on the top right to confirm you have a GPU\n",
        "5. Rerun the cells in the colab, from the top down, starting with the pip installs\n",
        "\n",
        "And all should work great - otherwise, ask me!\n"
      ]
    },
    {
      "cell_type": "markdown",
      "metadata": {
        "id": "oyvdfSSv4Cwo"
      },
      "source": [
        "## A sidenote:\n",
        "\n",
        "You may already know this, but just in case you're not familiar with the word \"inference\" that I use here:\n",
        "\n",
        "When working with Data Science models, you could be carrying out 2 very different activities: **training** and **inference**.\n",
        "\n",
        "### 1. Training  \n",
        "\n",
        "**Training** is when you provide a model with data for it to adapt to get better at a task in the future. It does this by updating its internal settings - the parameters or weights of the model. If you're Training a model that's already had some training, the activity is called \"fine-tuning\".\n",
        "\n",
        "### 2. Inference\n",
        "\n",
        "**Inference** is when you are working with a model that has _already been trained_. You are using that model to produce new outputs on new inputs, taking advantage of everything it learned while it was being trained. Inference is also sometimes referred to as \"Execution\" or \"Running a model\".\n",
        "\n",
        "All of our use of APIs for GPT, Claude and Gemini in the last weeks are examples of **inference**. The \"P\" in GPT stands for \"Pre-trained\", meaning that it has already been trained with data (lots of it!) In week 6 we will try fine-tuning GPT ourselves.\n",
        "  \n",
        "The pipelines API in HuggingFace is only for use for **inference** - running a model that has already been trained. In week 7 we will be training our own model, and we will need to use the more advanced HuggingFace APIs that we look at in the up-coming lecture.\n",
        "\n",
        "I recorded this playlist on YouTube with more on parameters, training and inference:  \n",
        "https://www.youtube.com/playlist?list=PLWHe-9GP9SMMdl6SLaovUQF2abiLGbMjs\n"
      ]
    },
    {
      "cell_type": "code",
      "execution_count": 3,
      "metadata": {
        "id": "sQ03dQDl2h0D"
      },
      "outputs": [],
      "source": [
        "# if this gives an \"ERROR\" about pip dependency conflicts, ignore it! It doesn't affect anything.\n",
        "\n",
        "!pip install -q -U transformers datasets diffusers soundfile"
      ]
    },
    {
      "cell_type": "code",
      "execution_count": 5,
      "metadata": {
        "id": "CTm7gpG7qhB7"
      },
      "outputs": [
        {
          "data": {
            "text/plain": [
              "True"
            ]
          },
          "execution_count": 5,
          "metadata": {},
          "output_type": "execute_result"
        }
      ],
      "source": [
        "# Imports\n",
        "\n",
        "import torch\n",
        "from huggingface_hub import login\n",
        "from transformers import pipeline\n",
        "from diffusers import DiffusionPipeline\n",
        "from datasets import load_dataset\n",
        "import soundfile as sf\n",
        "from IPython.display import Audio\n",
        "from dotenv import load_dotenv\n",
        "import os\n",
        "\n",
        "load_dotenv()"
      ]
    },
    {
      "cell_type": "markdown",
      "metadata": {
        "id": "90GeDKCG6c1v"
      },
      "source": [
        "# Important Note\n",
        "\n",
        "I didn't mention this in the lecture, but you may need to log in to the HuggingFace hub if you've not done so before.\n",
        "\n",
        "1. If you haven't already done so, create a **free** HuggingFace account at https://huggingface.co and navigate to Settings from the user menu on the top right. Then Create a new API token, giving yourself write permissions.\n",
        "\n",
        "**IMPORTANT** when you create your HuggingFace API key, please be sure to select read and write permissions for your key by clicking on the WRITE tab, otherwise you may get problems later.\n",
        "\n",
        "2. Back here in colab, press the \"key\" icon on the side panel to the left, and add a new secret:  \n",
        "  In the name field put `HF_TOKEN`  \n",
        "  In the value field put your actual token: `hf_...`  \n",
        "  Ensure the notebook access switch is turned ON.\n",
        "\n",
        "3. Execute the cell below to log in. You'll need to do this on each of your colabs. It's a really useful way to manage your secrets without needing to type them into colab. There's also a shortcut to simply overwrite the line below with:  \n",
        "`hf_token = \"hf_....\"`  \n",
        "But this isn't a best practice, as you'd have to be careful not to share the colab. And one of the great things about colabs is that you can share them!"
      ]
    },
    {
      "cell_type": "code",
      "execution_count": 6,
      "metadata": {
        "id": "E7GoH-tT6-xD"
      },
      "outputs": [],
      "source": [
        "hf_token = os.getenv(\"HUGGINGFACE_API_KEY\")\n",
        "login(hf_token, add_to_git_credential=True)"
      ]
    },
    {
      "cell_type": "code",
      "execution_count": 8,
      "metadata": {
        "id": "mzurQ1d12mBU"
      },
      "outputs": [
        {
          "name": "stderr",
          "output_type": "stream",
          "text": [
            "No model was supplied, defaulted to distilbert/distilbert-base-uncased-finetuned-sst-2-english and revision 714eb0f (https://huggingface.co/distilbert/distilbert-base-uncased-finetuned-sst-2-english).\n",
            "Using a pipeline without specifying a model name and revision in production is not recommended.\n",
            "Device set to use mps\n"
          ]
        },
        {
          "name": "stdout",
          "output_type": "stream",
          "text": [
            "[{'label': 'POSITIVE', 'score': 0.9993460774421692}]\n"
          ]
        }
      ],
      "source": [
        "# Sentiment Analysis\n",
        "device = \"cuda\" if torch.cuda.is_available() else \"mps\" if torch.backends.mps.is_available() else \"cpu\"\n",
        "\n",
        "classifier = pipeline(\"sentiment-analysis\", device=device)\n",
        "result = classifier(\"I'm super excited to be on the way to LLM mastery!\")\n",
        "print(result)"
      ]
    },
    {
      "cell_type": "code",
      "execution_count": 9,
      "metadata": {
        "id": "EeSJeFAh21Ra"
      },
      "outputs": [
        {
          "name": "stderr",
          "output_type": "stream",
          "text": [
            "No model was supplied, defaulted to dbmdz/bert-large-cased-finetuned-conll03-english and revision 4c53496 (https://huggingface.co/dbmdz/bert-large-cased-finetuned-conll03-english).\n",
            "Using a pipeline without specifying a model name and revision in production is not recommended.\n"
          ]
        },
        {
          "data": {
            "application/vnd.jupyter.widget-view+json": {
              "model_id": "e2a64014af9e424ba1ae0d38ea9075b5",
              "version_major": 2,
              "version_minor": 0
            },
            "text/plain": [
              "config.json:   0%|          | 0.00/998 [00:00<?, ?B/s]"
            ]
          },
          "metadata": {},
          "output_type": "display_data"
        },
        {
          "name": "stderr",
          "output_type": "stream",
          "text": [
            "Xet Storage is enabled for this repo, but the 'hf_xet' package is not installed. Falling back to regular HTTP download. For better performance, install the package with: `pip install huggingface_hub[hf_xet]` or `pip install hf_xet`\n"
          ]
        },
        {
          "data": {
            "application/vnd.jupyter.widget-view+json": {
              "model_id": "d74ab1144fb34000baf2c0ff1b874687",
              "version_major": 2,
              "version_minor": 0
            },
            "text/plain": [
              "model.safetensors:   0%|          | 0.00/1.33G [00:00<?, ?B/s]"
            ]
          },
          "metadata": {},
          "output_type": "display_data"
        },
        {
          "name": "stderr",
          "output_type": "stream",
          "text": [
            "Some weights of the model checkpoint at dbmdz/bert-large-cased-finetuned-conll03-english were not used when initializing BertForTokenClassification: ['bert.pooler.dense.bias', 'bert.pooler.dense.weight']\n",
            "- This IS expected if you are initializing BertForTokenClassification from the checkpoint of a model trained on another task or with another architecture (e.g. initializing a BertForSequenceClassification model from a BertForPreTraining model).\n",
            "- This IS NOT expected if you are initializing BertForTokenClassification from the checkpoint of a model that you expect to be exactly identical (initializing a BertForSequenceClassification model from a BertForSequenceClassification model).\n"
          ]
        },
        {
          "data": {
            "application/vnd.jupyter.widget-view+json": {
              "model_id": "ebf9c5f4c6aa436881eb3f1fffc29ee5",
              "version_major": 2,
              "version_minor": 0
            },
            "text/plain": [
              "tokenizer_config.json:   0%|          | 0.00/60.0 [00:00<?, ?B/s]"
            ]
          },
          "metadata": {},
          "output_type": "display_data"
        },
        {
          "data": {
            "application/vnd.jupyter.widget-view+json": {
              "model_id": "b499c5e5a0a94d8dbac4b40c5a45629a",
              "version_major": 2,
              "version_minor": 0
            },
            "text/plain": [
              "vocab.txt:   0%|          | 0.00/213k [00:00<?, ?B/s]"
            ]
          },
          "metadata": {},
          "output_type": "display_data"
        },
        {
          "name": "stderr",
          "output_type": "stream",
          "text": [
            "Device set to use mps\n",
            "/opt/homebrew/Caskroom/miniforge/base/envs/llms/lib/python3.11/site-packages/transformers/pipelines/token_classification.py:170: UserWarning: `grouped_entities` is deprecated and will be removed in version v5.0.0, defaulted to `aggregation_strategy=\"AggregationStrategy.SIMPLE\"` instead.\n",
            "  warnings.warn(\n"
          ]
        },
        {
          "name": "stdout",
          "output_type": "stream",
          "text": [
            "[{'entity_group': 'PER', 'score': 0.99918306, 'word': 'Barack Obama', 'start': 0, 'end': 12}, {'entity_group': 'LOC', 'score': 0.9986908, 'word': 'United States', 'start': 43, 'end': 56}]\n"
          ]
        }
      ],
      "source": [
        "# Named Entity Recognition\n",
        "\n",
        "ner = pipeline(\"ner\", grouped_entities=True, device=device)\n",
        "result = ner(\"Barack Obama was the 44th president of the United States.\")\n",
        "print(result)"
      ]
    },
    {
      "cell_type": "code",
      "execution_count": 10,
      "metadata": {
        "id": "J1fnF2yJ3o6O"
      },
      "outputs": [
        {
          "name": "stderr",
          "output_type": "stream",
          "text": [
            "No model was supplied, defaulted to distilbert/distilbert-base-cased-distilled-squad and revision 564e9b5 (https://huggingface.co/distilbert/distilbert-base-cased-distilled-squad).\n",
            "Using a pipeline without specifying a model name and revision in production is not recommended.\n"
          ]
        },
        {
          "data": {
            "application/vnd.jupyter.widget-view+json": {
              "model_id": "4d36124ada5242fc85d3431a3464f225",
              "version_major": 2,
              "version_minor": 0
            },
            "text/plain": [
              "config.json:   0%|          | 0.00/473 [00:00<?, ?B/s]"
            ]
          },
          "metadata": {},
          "output_type": "display_data"
        },
        {
          "name": "stderr",
          "output_type": "stream",
          "text": [
            "Xet Storage is enabled for this repo, but the 'hf_xet' package is not installed. Falling back to regular HTTP download. For better performance, install the package with: `pip install huggingface_hub[hf_xet]` or `pip install hf_xet`\n"
          ]
        },
        {
          "data": {
            "application/vnd.jupyter.widget-view+json": {
              "model_id": "749989bafbe246a8ab1a0f21e83afdbb",
              "version_major": 2,
              "version_minor": 0
            },
            "text/plain": [
              "model.safetensors:   0%|          | 0.00/261M [00:00<?, ?B/s]"
            ]
          },
          "metadata": {},
          "output_type": "display_data"
        },
        {
          "data": {
            "application/vnd.jupyter.widget-view+json": {
              "model_id": "8fabaf37b1ab4edaa4c901537612cb71",
              "version_major": 2,
              "version_minor": 0
            },
            "text/plain": [
              "tokenizer_config.json:   0%|          | 0.00/49.0 [00:00<?, ?B/s]"
            ]
          },
          "metadata": {},
          "output_type": "display_data"
        },
        {
          "data": {
            "application/vnd.jupyter.widget-view+json": {
              "model_id": "86c27d9f10f8492e8ceabe1441dde228",
              "version_major": 2,
              "version_minor": 0
            },
            "text/plain": [
              "vocab.txt:   0%|          | 0.00/213k [00:00<?, ?B/s]"
            ]
          },
          "metadata": {},
          "output_type": "display_data"
        },
        {
          "data": {
            "application/vnd.jupyter.widget-view+json": {
              "model_id": "2c828bd39eb548c493125a29c9960f17",
              "version_major": 2,
              "version_minor": 0
            },
            "text/plain": [
              "tokenizer.json:   0%|          | 0.00/436k [00:00<?, ?B/s]"
            ]
          },
          "metadata": {},
          "output_type": "display_data"
        },
        {
          "name": "stderr",
          "output_type": "stream",
          "text": [
            "Device set to use mps\n"
          ]
        },
        {
          "name": "stdout",
          "output_type": "stream",
          "text": [
            "{'score': 0.9889456033706665, 'start': 0, 'end': 12, 'answer': 'Barack Obama'}\n"
          ]
        }
      ],
      "source": [
        "# Question Answering with Context\n",
        "\n",
        "question_answerer = pipeline(\"question-answering\", device=device)\n",
        "result = question_answerer(question=\"Who was the 44th president of the United States?\", context=\"Barack Obama was the 44th president of the United States.\")\n",
        "print(result)"
      ]
    },
    {
      "cell_type": "code",
      "execution_count": 12,
      "metadata": {
        "id": "cjiiWRj231ME"
      },
      "outputs": [
        {
          "name": "stderr",
          "output_type": "stream",
          "text": [
            "No model was supplied, defaulted to sshleifer/distilbart-cnn-12-6 and revision a4f8f3e (https://huggingface.co/sshleifer/distilbart-cnn-12-6).\n",
            "Using a pipeline without specifying a model name and revision in production is not recommended.\n",
            "Device set to use mps\n"
          ]
        },
        {
          "name": "stdout",
          "output_type": "stream",
          "text": [
            " The Hugging Face transformers library is an incredibly versatile and powerful tool for natural language processing . It allows users to perform a wide range of tasks such as text classification, named entity recognition, and question answering .\n"
          ]
        }
      ],
      "source": [
        "# Text Summarization\n",
        "\n",
        "summarizer = pipeline(\"summarization\", device=device)\n",
        "text = \"\"\"The Hugging Face transformers library is an incredibly versatile and powerful tool for natural language processing (NLP).\n",
        "It allows users to perform a wide range of tasks such as text classification, named entity recognition, and question answering, among others.\n",
        "It's an extremely popular library that's widely used by the open-source data science community.\n",
        "It lowers the barrier to entry into the field by providing Data Scientists with a productive, convenient way to work with transformer models.\n",
        "\"\"\"\n",
        "summary = summarizer(text, max_length=50, min_length=25, do_sample=False)\n",
        "print(summary[0]['summary_text'])"
      ]
    },
    {
      "cell_type": "code",
      "execution_count": 13,
      "metadata": {
        "id": "M7UMfw324AdO"
      },
      "outputs": [
        {
          "name": "stderr",
          "output_type": "stream",
          "text": [
            "No model was supplied, defaulted to google-t5/t5-base and revision a9723ea (https://huggingface.co/google-t5/t5-base).\n",
            "Using a pipeline without specifying a model name and revision in production is not recommended.\n"
          ]
        },
        {
          "data": {
            "application/vnd.jupyter.widget-view+json": {
              "model_id": "6d6109edc11e43e6bd702e3886801884",
              "version_major": 2,
              "version_minor": 0
            },
            "text/plain": [
              "config.json:   0%|          | 0.00/1.21k [00:00<?, ?B/s]"
            ]
          },
          "metadata": {},
          "output_type": "display_data"
        },
        {
          "name": "stderr",
          "output_type": "stream",
          "text": [
            "Xet Storage is enabled for this repo, but the 'hf_xet' package is not installed. Falling back to regular HTTP download. For better performance, install the package with: `pip install huggingface_hub[hf_xet]` or `pip install hf_xet`\n"
          ]
        },
        {
          "data": {
            "application/vnd.jupyter.widget-view+json": {
              "model_id": "8ac5982731b249dca8e392c5a99020ac",
              "version_major": 2,
              "version_minor": 0
            },
            "text/plain": [
              "model.safetensors:   0%|          | 0.00/892M [00:00<?, ?B/s]"
            ]
          },
          "metadata": {},
          "output_type": "display_data"
        },
        {
          "data": {
            "application/vnd.jupyter.widget-view+json": {
              "model_id": "a7b4088ecb4d4467b98b3c22ed22662c",
              "version_major": 2,
              "version_minor": 0
            },
            "text/plain": [
              "generation_config.json:   0%|          | 0.00/147 [00:00<?, ?B/s]"
            ]
          },
          "metadata": {},
          "output_type": "display_data"
        },
        {
          "data": {
            "application/vnd.jupyter.widget-view+json": {
              "model_id": "9dd110a02ab14ef1bcd361bc26d590ce",
              "version_major": 2,
              "version_minor": 0
            },
            "text/plain": [
              "spiece.model:   0%|          | 0.00/792k [00:00<?, ?B/s]"
            ]
          },
          "metadata": {},
          "output_type": "display_data"
        },
        {
          "data": {
            "application/vnd.jupyter.widget-view+json": {
              "model_id": "d7bcefe5157343fc8fb53b00ee254b9c",
              "version_major": 2,
              "version_minor": 0
            },
            "text/plain": [
              "tokenizer.json:   0%|          | 0.00/1.39M [00:00<?, ?B/s]"
            ]
          },
          "metadata": {},
          "output_type": "display_data"
        },
        {
          "name": "stderr",
          "output_type": "stream",
          "text": [
            "Device set to use mps\n"
          ]
        },
        {
          "name": "stdout",
          "output_type": "stream",
          "text": [
            "Les Data Scientists ont été vraiment étonnés par la puissance et la simplicité de l'API du pipeline HuggingFace.\n"
          ]
        }
      ],
      "source": [
        "# Translation\n",
        "\n",
        "translator = pipeline(\"translation_en_to_fr\", device=device)\n",
        "result = translator(\"The Data Scientists were truly amazed by the power and simplicity of the HuggingFace pipeline API.\")\n",
        "print(result[0]['translation_text'])"
      ]
    },
    {
      "cell_type": "code",
      "execution_count": 14,
      "metadata": {
        "id": "RGU7ANVaRIkR"
      },
      "outputs": [
        {
          "data": {
            "application/vnd.jupyter.widget-view+json": {
              "model_id": "ed3b77b794d243ff9d23b635d8dab8b5",
              "version_major": 2,
              "version_minor": 0
            },
            "text/plain": [
              "config.json:   0%|          | 0.00/1.47k [00:00<?, ?B/s]"
            ]
          },
          "metadata": {},
          "output_type": "display_data"
        },
        {
          "data": {
            "application/vnd.jupyter.widget-view+json": {
              "model_id": "afcbb87daa054745b26c212e13b6c354",
              "version_major": 2,
              "version_minor": 0
            },
            "text/plain": [
              "pytorch_model.bin:   0%|          | 0.00/312M [00:00<?, ?B/s]"
            ]
          },
          "metadata": {},
          "output_type": "display_data"
        },
        {
          "data": {
            "application/vnd.jupyter.widget-view+json": {
              "model_id": "11427e6a5c72401d983aac8bafdce786",
              "version_major": 2,
              "version_minor": 0
            },
            "text/plain": [
              "generation_config.json:   0%|          | 0.00/293 [00:00<?, ?B/s]"
            ]
          },
          "metadata": {},
          "output_type": "display_data"
        },
        {
          "data": {
            "application/vnd.jupyter.widget-view+json": {
              "model_id": "331ab2387a5f43b3a60d29461ed5fee7",
              "version_major": 2,
              "version_minor": 0
            },
            "text/plain": [
              "tokenizer_config.json:   0%|          | 0.00/44.0 [00:00<?, ?B/s]"
            ]
          },
          "metadata": {},
          "output_type": "display_data"
        },
        {
          "data": {
            "application/vnd.jupyter.widget-view+json": {
              "model_id": "379413f890a341b4ada148100d254e90",
              "version_major": 2,
              "version_minor": 0
            },
            "text/plain": [
              "source.spm:   0%|          | 0.00/802k [00:00<?, ?B/s]"
            ]
          },
          "metadata": {},
          "output_type": "display_data"
        },
        {
          "data": {
            "application/vnd.jupyter.widget-view+json": {
              "model_id": "49efc62e8f0846cbbdac9fa73f13abfb",
              "version_major": 2,
              "version_minor": 0
            },
            "text/plain": [
              "model.safetensors:   0%|          | 0.00/312M [00:00<?, ?B/s]"
            ]
          },
          "metadata": {},
          "output_type": "display_data"
        },
        {
          "data": {
            "application/vnd.jupyter.widget-view+json": {
              "model_id": "cef71eda94c943d7ab69fbabcc631a36",
              "version_major": 2,
              "version_minor": 0
            },
            "text/plain": [
              "target.spm:   0%|          | 0.00/826k [00:00<?, ?B/s]"
            ]
          },
          "metadata": {},
          "output_type": "display_data"
        },
        {
          "data": {
            "application/vnd.jupyter.widget-view+json": {
              "model_id": "be2a8e5aadda4588a0b1d2c90f44304f",
              "version_major": 2,
              "version_minor": 0
            },
            "text/plain": [
              "vocab.json:   0%|          | 0.00/1.59M [00:00<?, ?B/s]"
            ]
          },
          "metadata": {},
          "output_type": "display_data"
        },
        {
          "name": "stderr",
          "output_type": "stream",
          "text": [
            "/opt/homebrew/Caskroom/miniforge/base/envs/llms/lib/python3.11/site-packages/transformers/models/marian/tokenization_marian.py:177: UserWarning: Recommended: pip install sacremoses.\n",
            "  warnings.warn(\"Recommended: pip install sacremoses.\")\n",
            "Device set to use mps\n"
          ]
        },
        {
          "name": "stdout",
          "output_type": "stream",
          "text": [
            "Los científicos de datos estaban verdaderamente sorprendidos por el poder y la simplicidad de la API de tuberías HuggingFace.\n"
          ]
        }
      ],
      "source": [
        "# Another translation, showing a model being specified\n",
        "# All translation models are here: https://huggingface.co/models?pipeline_tag=translation&sort=trending\n",
        "\n",
        "translator = pipeline(\"translation_en_to_es\", model=\"Helsinki-NLP/opus-mt-en-es\", device=device)\n",
        "result = translator(\"The Data Scientists were truly amazed by the power and simplicity of the HuggingFace pipeline API.\")\n",
        "print(result[0]['translation_text'])"
      ]
    },
    {
      "cell_type": "code",
      "execution_count": 15,
      "metadata": {
        "id": "rSZR309b4IP8"
      },
      "outputs": [
        {
          "name": "stderr",
          "output_type": "stream",
          "text": [
            "No model was supplied, defaulted to facebook/bart-large-mnli and revision d7645e1 (https://huggingface.co/facebook/bart-large-mnli).\n",
            "Using a pipeline without specifying a model name and revision in production is not recommended.\n"
          ]
        },
        {
          "data": {
            "application/vnd.jupyter.widget-view+json": {
              "model_id": "c7962c62820a41d39daf875bfd9285ad",
              "version_major": 2,
              "version_minor": 0
            },
            "text/plain": [
              "config.json:   0%|          | 0.00/1.15k [00:00<?, ?B/s]"
            ]
          },
          "metadata": {},
          "output_type": "display_data"
        },
        {
          "name": "stderr",
          "output_type": "stream",
          "text": [
            "Xet Storage is enabled for this repo, but the 'hf_xet' package is not installed. Falling back to regular HTTP download. For better performance, install the package with: `pip install huggingface_hub[hf_xet]` or `pip install hf_xet`\n"
          ]
        },
        {
          "data": {
            "application/vnd.jupyter.widget-view+json": {
              "model_id": "79d4fc26fd8445958df8c90bfc411919",
              "version_major": 2,
              "version_minor": 0
            },
            "text/plain": [
              "model.safetensors:   0%|          | 0.00/1.63G [00:00<?, ?B/s]"
            ]
          },
          "metadata": {},
          "output_type": "display_data"
        },
        {
          "data": {
            "application/vnd.jupyter.widget-view+json": {
              "model_id": "2168d1f40b264e0f8a4d5c0b358b9e51",
              "version_major": 2,
              "version_minor": 0
            },
            "text/plain": [
              "tokenizer_config.json:   0%|          | 0.00/26.0 [00:00<?, ?B/s]"
            ]
          },
          "metadata": {},
          "output_type": "display_data"
        },
        {
          "data": {
            "application/vnd.jupyter.widget-view+json": {
              "model_id": "5dd20c96467f447f8e0f052a7230467f",
              "version_major": 2,
              "version_minor": 0
            },
            "text/plain": [
              "vocab.json:   0%|          | 0.00/899k [00:00<?, ?B/s]"
            ]
          },
          "metadata": {},
          "output_type": "display_data"
        },
        {
          "data": {
            "application/vnd.jupyter.widget-view+json": {
              "model_id": "7ea17edd5df144878f5e55fc2475fc45",
              "version_major": 2,
              "version_minor": 0
            },
            "text/plain": [
              "merges.txt:   0%|          | 0.00/456k [00:00<?, ?B/s]"
            ]
          },
          "metadata": {},
          "output_type": "display_data"
        },
        {
          "data": {
            "application/vnd.jupyter.widget-view+json": {
              "model_id": "cc50fba0cbed47a5b1b1d2fdb000ec9d",
              "version_major": 2,
              "version_minor": 0
            },
            "text/plain": [
              "tokenizer.json:   0%|          | 0.00/1.36M [00:00<?, ?B/s]"
            ]
          },
          "metadata": {},
          "output_type": "display_data"
        },
        {
          "name": "stderr",
          "output_type": "stream",
          "text": [
            "Device set to use mps\n"
          ]
        },
        {
          "name": "stdout",
          "output_type": "stream",
          "text": [
            "{'sequence': \"Hugging Face's Transformers library is amazing!\", 'labels': ['technology', 'sports', 'politics'], 'scores': [0.9493841528892517, 0.032250016927719116, 0.01836581341922283]}\n"
          ]
        }
      ],
      "source": [
        "# Classification\n",
        "\n",
        "classifier = pipeline(\"zero-shot-classification\", device=device)\n",
        "result = classifier(\"Hugging Face's Transformers library is amazing!\", candidate_labels=[\"technology\", \"sports\", \"politics\"])\n",
        "print(result)"
      ]
    },
    {
      "cell_type": "code",
      "execution_count": 16,
      "metadata": {
        "id": "c_vynLSH4YQ7"
      },
      "outputs": [
        {
          "name": "stderr",
          "output_type": "stream",
          "text": [
            "No model was supplied, defaulted to openai-community/gpt2 and revision 607a30d (https://huggingface.co/openai-community/gpt2).\n",
            "Using a pipeline without specifying a model name and revision in production is not recommended.\n"
          ]
        },
        {
          "data": {
            "application/vnd.jupyter.widget-view+json": {
              "model_id": "20217d4a10364f62b685ddd604e17c12",
              "version_major": 2,
              "version_minor": 0
            },
            "text/plain": [
              "config.json:   0%|          | 0.00/665 [00:00<?, ?B/s]"
            ]
          },
          "metadata": {},
          "output_type": "display_data"
        },
        {
          "name": "stderr",
          "output_type": "stream",
          "text": [
            "Xet Storage is enabled for this repo, but the 'hf_xet' package is not installed. Falling back to regular HTTP download. For better performance, install the package with: `pip install huggingface_hub[hf_xet]` or `pip install hf_xet`\n"
          ]
        },
        {
          "data": {
            "application/vnd.jupyter.widget-view+json": {
              "model_id": "c779dce112604972b9f18a1346ee3918",
              "version_major": 2,
              "version_minor": 0
            },
            "text/plain": [
              "model.safetensors:   0%|          | 0.00/548M [00:00<?, ?B/s]"
            ]
          },
          "metadata": {},
          "output_type": "display_data"
        },
        {
          "data": {
            "application/vnd.jupyter.widget-view+json": {
              "model_id": "b18f4db2562e47ce9353fdba4c52248e",
              "version_major": 2,
              "version_minor": 0
            },
            "text/plain": [
              "generation_config.json:   0%|          | 0.00/124 [00:00<?, ?B/s]"
            ]
          },
          "metadata": {},
          "output_type": "display_data"
        },
        {
          "data": {
            "application/vnd.jupyter.widget-view+json": {
              "model_id": "ee2736feb70f4e968ff14983dba9c15a",
              "version_major": 2,
              "version_minor": 0
            },
            "text/plain": [
              "tokenizer_config.json:   0%|          | 0.00/26.0 [00:00<?, ?B/s]"
            ]
          },
          "metadata": {},
          "output_type": "display_data"
        },
        {
          "data": {
            "application/vnd.jupyter.widget-view+json": {
              "model_id": "ff2c905190ad4c03a12684ffe8a8daec",
              "version_major": 2,
              "version_minor": 0
            },
            "text/plain": [
              "vocab.json:   0%|          | 0.00/1.04M [00:00<?, ?B/s]"
            ]
          },
          "metadata": {},
          "output_type": "display_data"
        },
        {
          "data": {
            "application/vnd.jupyter.widget-view+json": {
              "model_id": "fc134f9966844826a1b47d80d258ec6f",
              "version_major": 2,
              "version_minor": 0
            },
            "text/plain": [
              "merges.txt:   0%|          | 0.00/456k [00:00<?, ?B/s]"
            ]
          },
          "metadata": {},
          "output_type": "display_data"
        },
        {
          "data": {
            "application/vnd.jupyter.widget-view+json": {
              "model_id": "1d109ad2aeb64f8fbbea0eb6c8134e37",
              "version_major": 2,
              "version_minor": 0
            },
            "text/plain": [
              "tokenizer.json:   0%|          | 0.00/1.36M [00:00<?, ?B/s]"
            ]
          },
          "metadata": {},
          "output_type": "display_data"
        },
        {
          "name": "stderr",
          "output_type": "stream",
          "text": [
            "Device set to use mps\n",
            "Setting `pad_token_id` to `eos_token_id`:50256 for open-end generation.\n"
          ]
        },
        {
          "name": "stdout",
          "output_type": "stream",
          "text": [
            "If there's one thing I want you to remember about using HuggingFace pipelines, it's that you do not have to do something on your own.\n",
            "\n",
            "The easiest way to use HuggingFace is to use it as a command line interface.\n",
            "\n",
            "$ git clone https://github.com/jbw/SiggingFace.git\n",
            "\n",
            "Now, to use it in your own environment, you'll also have to create a different command line variable.\n",
            "\n",
            "$ git clone https://github.com/jbw/SiggingFace.git\n",
            "\n",
            "This will create a new file called siggingface.yaml in your environment.\n",
            "\n",
            "$ git checkout siggingface.yaml\n",
            "\n",
            "We're going to create a new file siggingface.yaml on the same directory as the project we want to create the file, and then we're going to be able to make a new file named siggingface.h in your current project directory.\n",
            "\n",
            "$ git init\n",
            "\n",
            "Now, we're going to have to create a new file siggingface.h in your current project directory, and then we're going to use the command line variable siggingface.h.\n",
            "\n",
            "$ git add -a\n",
            "\n",
            "This will create a new file siggingface.h, and then we're going\n"
          ]
        }
      ],
      "source": [
        "# Text Generation\n",
        "\n",
        "generator = pipeline(\"text-generation\", device=device)\n",
        "result = generator(\"If there's one thing I want you to remember about using HuggingFace pipelines, it's\")\n",
        "print(result[0]['generated_text'])"
      ]
    },
    {
      "cell_type": "code",
      "execution_count": null,
      "metadata": {
        "id": "vgG4kcT_4lO_"
      },
      "outputs": [],
      "source": [
        "# Image Generation\n",
        "\n",
        "image_gen = DiffusionPipeline.from_pretrained(\n",
        "    \"stabilityai/stable-diffusion-2\",\n",
        "    torch_dtype=torch.float16,\n",
        "    use_safetensors=True,\n",
        "    variant=\"fp16\"\n",
        "    ).to(device)\n",
        "\n",
        "text = \"A class of Data Scientists learning about AI, in the surreal style of Salvador Dali\"\n",
        "image = image_gen(prompt=text).images[0]\n",
        "image"
      ]
    },
    {
      "cell_type": "code",
      "execution_count": 17,
      "metadata": {
        "id": "kCPBE0i4pAAO"
      },
      "outputs": [
        {
          "data": {
            "application/vnd.jupyter.widget-view+json": {
              "model_id": "84480accf2c14b66ab0ee18fa07a2586",
              "version_major": 2,
              "version_minor": 0
            },
            "text/plain": [
              "config.json:   0%|          | 0.00/2.06k [00:00<?, ?B/s]"
            ]
          },
          "metadata": {},
          "output_type": "display_data"
        },
        {
          "data": {
            "application/vnd.jupyter.widget-view+json": {
              "model_id": "96519ca7897f483fba2a5cd2442ce997",
              "version_major": 2,
              "version_minor": 0
            },
            "text/plain": [
              "pytorch_model.bin:   0%|          | 0.00/585M [00:00<?, ?B/s]"
            ]
          },
          "metadata": {},
          "output_type": "display_data"
        },
        {
          "data": {
            "application/vnd.jupyter.widget-view+json": {
              "model_id": "a3c992d362834a9ab2214976bf6e4c1c",
              "version_major": 2,
              "version_minor": 0
            },
            "text/plain": [
              "tokenizer_config.json:   0%|          | 0.00/232 [00:00<?, ?B/s]"
            ]
          },
          "metadata": {},
          "output_type": "display_data"
        },
        {
          "data": {
            "application/vnd.jupyter.widget-view+json": {
              "model_id": "0302b7d3c3024d3288f52b25e0846e06",
              "version_major": 2,
              "version_minor": 0
            },
            "text/plain": [
              "spm_char.model:   0%|          | 0.00/238k [00:00<?, ?B/s]"
            ]
          },
          "metadata": {},
          "output_type": "display_data"
        },
        {
          "data": {
            "application/vnd.jupyter.widget-view+json": {
              "model_id": "5e75843a1ec64fedbe6a2d52ba947458",
              "version_major": 2,
              "version_minor": 0
            },
            "text/plain": [
              "added_tokens.json:   0%|          | 0.00/40.0 [00:00<?, ?B/s]"
            ]
          },
          "metadata": {},
          "output_type": "display_data"
        },
        {
          "data": {
            "application/vnd.jupyter.widget-view+json": {
              "model_id": "366528a40cf246e181c57b20213b73cd",
              "version_major": 2,
              "version_minor": 0
            },
            "text/plain": [
              "model.safetensors:   0%|          | 0.00/585M [00:00<?, ?B/s]"
            ]
          },
          "metadata": {},
          "output_type": "display_data"
        },
        {
          "data": {
            "application/vnd.jupyter.widget-view+json": {
              "model_id": "68b62072203a49bba77a3b464a516cf3",
              "version_major": 2,
              "version_minor": 0
            },
            "text/plain": [
              "special_tokens_map.json:   0%|          | 0.00/234 [00:00<?, ?B/s]"
            ]
          },
          "metadata": {},
          "output_type": "display_data"
        },
        {
          "data": {
            "application/vnd.jupyter.widget-view+json": {
              "model_id": "057bce7c24a949baaf28fcd564a6e65c",
              "version_major": 2,
              "version_minor": 0
            },
            "text/plain": [
              "preprocessor_config.json:   0%|          | 0.00/433 [00:00<?, ?B/s]"
            ]
          },
          "metadata": {},
          "output_type": "display_data"
        },
        {
          "name": "stderr",
          "output_type": "stream",
          "text": [
            "Device set to use mps\n"
          ]
        },
        {
          "data": {
            "application/vnd.jupyter.widget-view+json": {
              "model_id": "2161455412434139a29e0a7689487225",
              "version_major": 2,
              "version_minor": 0
            },
            "text/plain": [
              "config.json:   0%|          | 0.00/636 [00:00<?, ?B/s]"
            ]
          },
          "metadata": {},
          "output_type": "display_data"
        },
        {
          "data": {
            "application/vnd.jupyter.widget-view+json": {
              "model_id": "6178623291a64727ae9a1af2c9080a9c",
              "version_major": 2,
              "version_minor": 0
            },
            "text/plain": [
              "pytorch_model.bin:   0%|          | 0.00/50.7M [00:00<?, ?B/s]"
            ]
          },
          "metadata": {},
          "output_type": "display_data"
        },
        {
          "data": {
            "application/vnd.jupyter.widget-view+json": {
              "model_id": "9165a62575e641e29bacc8b5386af83d",
              "version_major": 2,
              "version_minor": 0
            },
            "text/plain": [
              "README.md:   0%|          | 0.00/1.01k [00:00<?, ?B/s]"
            ]
          },
          "metadata": {},
          "output_type": "display_data"
        },
        {
          "data": {
            "application/vnd.jupyter.widget-view+json": {
              "model_id": "2ecc3565a6864f8eae60ca08f6336787",
              "version_major": 2,
              "version_minor": 0
            },
            "text/plain": [
              "model.safetensors:   0%|          | 0.00/50.6M [00:00<?, ?B/s]"
            ]
          },
          "metadata": {},
          "output_type": "display_data"
        },
        {
          "data": {
            "application/vnd.jupyter.widget-view+json": {
              "model_id": "5cc4d09f3ac14e97a425d08d7ced78f7",
              "version_major": 2,
              "version_minor": 0
            },
            "text/plain": [
              "cmu-arctic-xvectors.py:   0%|          | 0.00/1.36k [00:00<?, ?B/s]"
            ]
          },
          "metadata": {},
          "output_type": "display_data"
        },
        {
          "name": "stderr",
          "output_type": "stream",
          "text": [
            "Xet Storage is enabled for this repo, but the 'hf_xet' package is not installed. Falling back to regular HTTP download. For better performance, install the package with: `pip install huggingface_hub[hf_xet]` or `pip install hf_xet`\n"
          ]
        },
        {
          "data": {
            "application/vnd.jupyter.widget-view+json": {
              "model_id": "cca8d7e6104f447d9cc2ab77306c3d33",
              "version_major": 2,
              "version_minor": 0
            },
            "text/plain": [
              "0000.parquet:   0%|          | 0.00/21.3M [00:00<?, ?B/s]"
            ]
          },
          "metadata": {},
          "output_type": "display_data"
        },
        {
          "data": {
            "application/vnd.jupyter.widget-view+json": {
              "model_id": "98492109e18040488864952a255cf69c",
              "version_major": 2,
              "version_minor": 0
            },
            "text/plain": [
              "Generating validation split:   0%|          | 0/7931 [00:00<?, ? examples/s]"
            ]
          },
          "metadata": {},
          "output_type": "display_data"
        },
        {
          "data": {
            "text/html": [
              "\n",
              "                <audio  controls=\"controls\" >\n",
              "                    <source src=\"data:audio/x-wav;base64,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\" type=\"audio/x-wav\" />\n",
              "                    Your browser does not support the audio element.\n",
              "                </audio>\n",
              "              "
            ],
            "text/plain": [
              "<IPython.lib.display.Audio object>"
            ]
          },
          "execution_count": 17,
          "metadata": {},
          "output_type": "execute_result"
        }
      ],
      "source": [
        "# Audio Generation\n",
        "\n",
        "synthesiser = pipeline(\"text-to-speech\", \"microsoft/speecht5_tts\", device=device)\n",
        "\n",
        "embeddings_dataset = load_dataset(\"Matthijs/cmu-arctic-xvectors\", split=\"validation\")\n",
        "speaker_embedding = torch.tensor(embeddings_dataset[7306][\"xvector\"]).unsqueeze(0)\n",
        "\n",
        "speech = synthesiser(\"Hi to an artificial intelligence engineer, on the way to mastery!\", forward_params={\"speaker_embeddings\": speaker_embedding})\n",
        "\n",
        "sf.write(\"speech.wav\", speech[\"audio\"], samplerate=speech[\"sampling_rate\"])\n",
        "Audio(\"speech.wav\")"
      ]
    },
    {
      "cell_type": "markdown",
      "metadata": {
        "id": "KdMBtNNp3FwC"
      },
      "source": [
        "# All the available pipelines\n",
        "\n",
        "Here are all the pipelines available from Transformers and Diffusers.\n",
        "\n",
        "With thanks to student Lucky P for suggesting I include this!\n",
        "\n",
        "There's a list pipelines under the Tasks on this page (you have to scroll down a bit, then expand the parameters to see the Tasks):\n",
        "\n",
        "https://huggingface.co/docs/transformers/main_classes/pipelines\n",
        "\n",
        "There's also this list of Tasks for Diffusion models instead of Transformers, following the image generation example where I use DiffusionPipeline above.\n",
        "\n",
        "https://huggingface.co/docs/diffusers/en/api/pipelines/overview\n",
        "\n",
        "If you come up with some cool examples of other pipelines, please share them with me! It's wonderful how HuggingFace makes this advanced AI functionality available for inference with such a simple API."
      ]
    },
    {
      "cell_type": "code",
      "execution_count": null,
      "metadata": {
        "id": "iLy0VB9CqdDI"
      },
      "outputs": [],
      "source": []
    }
  ],
  "metadata": {
    "accelerator": "GPU",
    "colab": {
      "gpuType": "T4",
      "provenance": []
    },
    "kernelspec": {
      "display_name": "llms",
      "language": "python",
      "name": "python3"
    },
    "language_info": {
      "codemirror_mode": {
        "name": "ipython",
        "version": 3
      },
      "file_extension": ".py",
      "mimetype": "text/x-python",
      "name": "python",
      "nbconvert_exporter": "python",
      "pygments_lexer": "ipython3",
      "version": "3.11.12"
    }
  },
  "nbformat": 4,
  "nbformat_minor": 0
}
