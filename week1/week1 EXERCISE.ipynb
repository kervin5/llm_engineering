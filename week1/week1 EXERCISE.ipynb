{
 "cells": [
  {
   "cell_type": "markdown",
   "id": "fe12c203-e6a6-452c-a655-afb8a03a4ff5",
   "metadata": {},
   "source": [
    "# End of week 1 exercise\n",
    "\n",
    "To demonstrate your familiarity with OpenAI API, and also Ollama, build a tool that takes a technical question,  \n",
    "and responds with an explanation. This is a tool that you will be able to use yourself during the course!"
   ]
  },
  {
   "cell_type": "code",
   "execution_count": 8,
   "id": "c1070317-3ed9-4659-abe3-828943230e03",
   "metadata": {},
   "outputs": [],
   "source": [
    "# imports\n",
    "from openai import OpenAI\n",
    "from dotenv import load_dotenv\n",
    "from IPython.display import Markdown, display, update_display"
   ]
  },
  {
   "cell_type": "code",
   "execution_count": 2,
   "id": "4a456906-915a-4bfd-bb9d-57e505c5093f",
   "metadata": {},
   "outputs": [],
   "source": [
    "# constants\n",
    "\n",
    "MODEL_GPT = 'gpt-4o-mini'\n",
    "MODEL_LLAMA = 'llama3.2'"
   ]
  },
  {
   "cell_type": "code",
   "execution_count": 5,
   "id": "a8d7923c-5f28-4c30-8556-342d7c8497c1",
   "metadata": {},
   "outputs": [],
   "source": [
    "# set up environment\n",
    "# ollama_via_openai = OpenAI(base_url='http://localhost:11434/v1', api_key='ollama')\n",
    "load_dotenv(override=True)\n",
    "\n",
    "openai = OpenAI()"
   ]
  },
  {
   "cell_type": "code",
   "execution_count": 17,
   "id": "3f0d0137-52b0-47a8-81a8-11a90a010798",
   "metadata": {},
   "outputs": [],
   "source": [
    "# here is the question; type over this to ask something new\n",
    "system_prompt = \"\"\"You are a friendly mentor and tutor for college students. You are very good at explaining code and programming concepts in a way that is easy to understand. You are also very good at giving examples and analogies to help students learn. You are patient and kind, and you always encourage students to ask questions and seek help when they need it. You are also very knowledgeable about programming languages, algorithms, data structures, and software development best practices. When a user asks you a question, you will do your best to provide a clear and concise answer\"\"\"\n",
    "\n",
    "question = \"\"\"\n",
    "Please explain what this code does and why:\n",
    "print(\"Hello, World!\")\n",
    "\"\"\""
   ]
  },
  {
   "cell_type": "code",
   "execution_count": 18,
   "id": "60ce7000-a4a5-4cce-a261-e75ef45063b4",
   "metadata": {},
   "outputs": [
    {
     "data": {
      "text/markdown": [
       "Sure! The line of code you provided is:\n",
       "\n",
       "python\n",
       "print(\"Hello, World!\")\n",
       "\n",
       "\n",
       "### Explanation:\n",
       "\n",
       "1. **`print`**: This is a built-in function in Python that sends the specified message or value to the console (or standard output). It's commonly used to display information to the user.\n",
       "\n",
       "2. **`\"Hello, World!\"`**: This is a string, which is a sequence of characters. In this case, it's a simple message that says \"Hello, World!\"\n",
       "\n",
       "### What the code does:\n",
       "\n",
       "When you run this line of code, it outputs the string \"Hello, World!\" to the screen. It's often one of the first programs you write when learning a new programming language.\n",
       "\n",
       "### Why it's significant:\n",
       "\n",
       "- **Learning Tool**: The \"Hello, World!\" program serves as a simple introduction to the syntax of a programming language. It teaches new programmers how to define a function call and display output.\n",
       "- **Standard Practice**: It's a tradition in programming to create a \"Hello, World!\" program as a first step when learning a new language or framework. It validates that your development environment is set up correctly, enabling you to run code successfully.\n",
       "\n",
       "If you have any more questions or need further clarification, feel free to ask!"
      ],
      "text/plain": [
       "<IPython.core.display.Markdown object>"
      ]
     },
     "metadata": {},
     "output_type": "display_data"
    }
   ],
   "source": [
    "# Get gpt-4o-mini to answer, with streaming\n",
    "stream = openai.chat.completions.create(\n",
    "    model=MODEL_GPT,\n",
    "    messages=[\n",
    "        {\"role\": \"system\", \"content\": system_prompt},\n",
    "        {\"role\": \"user\", \"content\": question}\n",
    "    ],\n",
    "    stream=True\n",
    ")\n",
    "\n",
    "response = \"\"\n",
    "display_handle = display(Markdown(\"\"), display_id=True)\n",
    "for chunk in stream:\n",
    "    response += chunk.choices[0].delta.content or ''\n",
    "    response = response.replace(\"```\",\"\").replace(\"markdown\", \"\")\n",
    "    update_display(Markdown(response), display_id=display_handle.display_id)"
   ]
  },
  {
   "cell_type": "code",
   "execution_count": 19,
   "id": "8f7c8ea8-4082-4ad0-8751-3301adcf6538",
   "metadata": {},
   "outputs": [
    {
     "name": "stdout",
     "output_type": "stream",
     "text": [
      "**The Power of Printing \"Hello, World!\"**\n",
      "\n",
      "This single line of code might seem simple, but it's actually one of the most iconic and important statements in programming.\n",
      "\n",
      "In this case, `print()` is a built-in Python function that displays text or values on the screen. When you see `print(\"Hello, World!\")`, you can think of it as saying \"write 'Hello, World!' to my console\" or \"display the string 'Hello, World!'\".\n",
      "\n",
      "This code does nothing more than printing a message to the standard output (usually the console or terminal). It's often used as a convention in Python to acknowledge that a program is running successfully.\n",
      "\n",
      "Here are some interesting facts about this line of code:\n",
      "\n",
      "* **Purpose**: As mentioned earlier, it displays text on the screen.\n",
      "* **Data type**: This statement doesn't return any data value; it only prints text. In Python, \"Hello, World!\" is considered a string data type.\n",
      "* **Behavior**: When you run this code, the result is the visual text \"Hello, World!\". The output will depend on your terminal or console settings.\n",
      "\n",
      "Why do we want to print something in our program? That's when things get really interesting!\n",
      "\n",
      "**Example Use Case**\n",
      "\n",
      "Imagine you're creating a game that greets the player at the start. You could use `print(\"Welcome, adventurer!\")` (or `print(\"Hello, World!\")`, but let's try to create something more personalized).\n",
      "\n",
      "Here's an updated example using Python:\n",
      "```python\n",
      "name = input(\"What's your name? \")\n",
      "greeting_message = \"Hello, \" + name + \"! Welcome!\"\n",
      "\n",
      "print(greeting_message)\n",
      "```\n",
      "In this case, we first ask the user for their name and store it in a variable called `name`. Then we create another message string by concatenating (joining) parts of strings together. Finally, we print out that personalized greeting!\n",
      "\n",
      "I hope this explanation helps you understand what's happening behind the scenes with our seemingly simple \"Hello, World!\" code!\n"
     ]
    }
   ],
   "source": [
    "# Get Llama 3.2 to answer\n",
    "ollama_via_openai = OpenAI(base_url='http://localhost:11434/v1', api_key='ollama')\n",
    "\n",
    "response = ollama_via_openai.chat.completions.create(\n",
    "    model=MODEL_LLAMA,\n",
    "    messages=[\n",
    "        {\"role\": \"system\", \"content\": system_prompt},\n",
    "        {\"role\": \"user\", \"content\": question}\n",
    "    ]\n",
    ")\n",
    "\n",
    "print(response.choices[0].message.content)\n"
   ]
  }
 ],
 "metadata": {
  "kernelspec": {
   "display_name": "llms",
   "language": "python",
   "name": "python3"
  },
  "language_info": {
   "codemirror_mode": {
    "name": "ipython",
    "version": 3
   },
   "file_extension": ".py",
   "mimetype": "text/x-python",
   "name": "python",
   "nbconvert_exporter": "python",
   "pygments_lexer": "ipython3",
   "version": "3.11.12"
  }
 },
 "nbformat": 4,
 "nbformat_minor": 5
}
